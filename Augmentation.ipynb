{
 "cells": [
  {
   "cell_type": "code",
   "execution_count": 1,
   "id": "025a9c5b",
   "metadata": {},
   "outputs": [],
   "source": [
    "import numpy as np\n",
    "import os\n",
    "import keras\n",
    "import PIL\n",
    "import tensorflow as tf\n",
    "from skimage import io\n",
    "from PIL import Image\n",
    "import random\n",
    "from keras.preprocessing.image import ImageDataGenerator"
   ]
  },
  {
   "cell_type": "code",
   "execution_count": null,
   "id": "3ea0d691",
   "metadata": {},
   "outputs": [],
   "source": [
    "datagen = ImageDataGenerator(\n",
    "        rotation_range=45,     #Random rotation between 0 and 45 degrees\n",
    "        width_shift_range=0.2,   #shifting of image horizontally by 20%\n",
    "        height_shift_range=0.2,  #shifting of image vertically by 20\n",
    "        shear_range=0.2,         #shearing of image by 20%     \n",
    "        zoom_range=0.2,          #zooming in and out of image by 20%\n",
    "        horizontal_flip=True,    #horizontal mirroring of image\n",
    "        fill_mode='reflect')     #Filling the blank area while shifting by mirroring the image"
   ]
  },
  {
   "cell_type": "code",
   "execution_count": null,
   "id": "07e2fbe6",
   "metadata": {},
   "outputs": [],
   "source": [
    "dataset = []"
   ]
  },
  {
   "cell_type": "code",
   "execution_count": null,
   "id": "6a3e680f",
   "metadata": {},
   "outputs": [],
   "source": [
    "image_directory = '\"________\"' #Add the folder path containing images to augment \n",
    "SIZE = 256\n",
    "dataset = []"
   ]
  },
  {
   "cell_type": "code",
   "execution_count": null,
   "id": "4acaa017",
   "metadata": {},
   "outputs": [],
   "source": [
    "my_images = os.listdir(image_directory)\n",
    "for i, image_name in enumerate(my_images):\n",
    "    if (image_name.split('.')[1] == 'jpg'): # 'jpg'/'png' depending on the image file type\n",
    "        image = io.imread(image_directory + image_name)\n",
    "        image = Image.fromarray(image, 'RGB')\n",
    "        image = image.resize((SIZE,SIZE))   # Resizing of all the images\n",
    "        dataset.append(np.array(image))"
   ]
  },
  {
   "cell_type": "code",
   "execution_count": null,
   "id": "b8e2a8c0",
   "metadata": {},
   "outputs": [],
   "source": [
    "x = np.array(dataset)"
   ]
  },
  {
   "cell_type": "code",
   "execution_count": null,
   "id": "e53d0c8e",
   "metadata": {},
   "outputs": [],
   "source": [
    "i = 0\n",
    "for batch in datagen.flow(x, batch_size=16,  \n",
    "                          save_to_dir='\"__________\"', #Add the folder path to save augmented images \n",
    "                          save_prefix='aug', \n",
    "                          save_format='png'):\n",
    "    i += 1\n",
    "    if i > 20:\n",
    "        break"
   ]
  }
 ],
 "metadata": {
  "kernelspec": {
   "display_name": "Python 3 (ipykernel)",
   "language": "python",
   "name": "python3"
  },
  "language_info": {
   "codemirror_mode": {
    "name": "ipython",
    "version": 3
   },
   "file_extension": ".py",
   "mimetype": "text/x-python",
   "name": "python",
   "nbconvert_exporter": "python",
   "pygments_lexer": "ipython3",
   "version": "3.10.8"
  }
 },
 "nbformat": 4,
 "nbformat_minor": 5
}
